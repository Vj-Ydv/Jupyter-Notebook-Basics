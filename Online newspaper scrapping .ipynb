{
 "cells": [
  {
   "cell_type": "code",
   "execution_count": 11,
   "metadata": {},
   "outputs": [
    {
     "name": "stdout",
     "output_type": "stream",
     "text": [
      "installation complete !\n"
     ]
    }
   ],
   "source": [
    "import sys\n",
    "!{sys.executable} -m pip install newspaper3k\n",
    "\n",
    "print(\"installation complete !\")"
   ]
  },
  {
   "cell_type": "code",
   "execution_count": 10,
   "metadata": {},
   "outputs": [],
   "source": [
    "from newspaper import Article"
   ]
  },
  {
   "cell_type": "code",
   "execution_count": 14,
   "metadata": {},
   "outputs": [],
   "source": [
    "article = Article('https://www.nytimes.com/2020/05/10/us/ahmaud-arbery-georgia.html')"
   ]
  },
  {
   "cell_type": "code",
   "execution_count": 16,
   "metadata": {},
   "outputs": [],
   "source": [
    "#article = Article('https://www.nytimes.com/2020/05/10/us/ahmaud-arbery-georgia.html', 'en') #English"
   ]
  },
  {
   "cell_type": "code",
   "execution_count": 17,
   "metadata": {},
   "outputs": [],
   "source": [
    "article.download()\n",
    "article.parse()"
   ]
  },
  {
   "cell_type": "code",
   "execution_count": 18,
   "metadata": {},
   "outputs": [
    {
     "data": {
      "text/plain": [
       "['Richard Fausset']"
      ]
     },
     "execution_count": 18,
     "metadata": {},
     "output_type": "execute_result"
    }
   ],
   "source": [
    "article.authors"
   ]
  },
  {
   "cell_type": "code",
   "execution_count": 19,
   "metadata": {},
   "outputs": [
    {
     "data": {
      "text/plain": [
       "datetime.datetime(2020, 5, 10, 0, 0)"
      ]
     },
     "execution_count": 19,
     "metadata": {},
     "output_type": "execute_result"
    }
   ],
   "source": [
    "article.publish_date"
   ]
  },
  {
   "cell_type": "code",
   "execution_count": 20,
   "metadata": {},
   "outputs": [
    {
     "data": {
      "text/plain": [
       "'Mr. Arbery was a natural mimic, and Mr. Baker remembered laughing at his impressions on weekday mornings while sitting next to him on the bus. Mr. Arbery was also dazzling on the empty lot where they played a one-man-against-the-world football game called “hot ball.”\\n\\nMr. Arbery preferred to play barefoot, and patterned his moves on Reggie Bush, the fleet and nimble N.F.L. running back. “Quick cuts, spin and juke moves, step backs,” Mr. Baker said. “It just left you in awe.”\\n\\nMuch of their childhood was spent outside, drinking water from a spigot and playing ball until dark, and eventually Mr. Baker trimmed down and became a good athlete in his own right. Soon they were both linebackers for the Brunswick High School Pirates.\\n\\nMr. Arbery won accolades for his talent, and dreamed of playing for the N.F.L. Mr. Baker, who loved to read, dreamed of becoming a doctor.\\n\\nMr. Baker got his driver’s license first. The two men would drive around their little town in an old Buick Century sedan, rapping together. Mr. Baker, partial to the dense, thorny lyrics of the rapper Kendrick Lamar, was the more fluid wordsmith. Mr. Arbery tended to provide the sounds of encouragement — the “oohs” and “oh, yeahs” — as Mr. Baker freestyled. It was a good fit.\\n\\nWhile Mr. Baker made plans for college, Mr. Arbery planned to stay home. He had a job at McDonald’s. But he was not jealous. He told Mr. Baker, “I’m going to see you at the top.”\\n\\nMr. Baker thrived at Morehouse, even though he arrived on academic probation because of his lower standardized test scores. He said he had something to prove. He called Mr. Arbery regularly, letting him in on the broader college world he was immersed in, describing to him the myriad varieties of black experience that came out of the Morehouse student body.'"
      ]
     },
     "execution_count": 20,
     "metadata": {},
     "output_type": "execute_result"
    }
   ],
   "source": [
    "article.text"
   ]
  },
  {
   "cell_type": "code",
   "execution_count": 21,
   "metadata": {},
   "outputs": [
    {
     "data": {
      "text/plain": [
       "'https://static01.nyt.com/images/2020/05/10/us/10georgia-arbery-1/10georgia-arbery-1-facebookJumbo-v2.jpg'"
      ]
     },
     "execution_count": 21,
     "metadata": {},
     "output_type": "execute_result"
    }
   ],
   "source": [
    "article.top_image"
   ]
  },
  {
   "cell_type": "code",
   "execution_count": 27,
   "metadata": {},
   "outputs": [],
   "source": [
    "#article.nlp()"
   ]
  },
  {
   "cell_type": "code",
   "execution_count": 23,
   "metadata": {},
   "outputs": [
    {
     "data": {
      "text/plain": [
       "['ends',\n",
       " 'mr',\n",
       " 'good',\n",
       " 'maud',\n",
       " 'morehouse',\n",
       " 'lifetime',\n",
       " 'dreamed',\n",
       " 'lost',\n",
       " 'playing',\n",
       " 'text',\n",
       " 'arbery',\n",
       " 'nfl',\n",
       " 'moves',\n",
       " 'college',\n",
       " 'running',\n",
       " 'ahmaud',\n",
       " 'baker']"
      ]
     },
     "execution_count": 23,
     "metadata": {},
     "output_type": "execute_result"
    }
   ],
   "source": [
    "article.keywords"
   ]
  },
  {
   "cell_type": "code",
   "execution_count": 25,
   "metadata": {},
   "outputs": [
    {
     "data": {
      "text/plain": [
       "''"
      ]
     },
     "execution_count": 25,
     "metadata": {},
     "output_type": "execute_result"
    }
   ],
   "source": [
    "article.summary"
   ]
  },
  {
   "cell_type": "code",
   "execution_count": null,
   "metadata": {},
   "outputs": [],
   "source": []
  },
  {
   "cell_type": "markdown",
   "metadata": {},
   "source": [
    "# Reading another article"
   ]
  },
  {
   "cell_type": "code",
   "execution_count": 2,
   "metadata": {},
   "outputs": [],
   "source": [
    "from newspaper import Article"
   ]
  },
  {
   "cell_type": "code",
   "execution_count": 3,
   "metadata": {},
   "outputs": [],
   "source": [
    "article = Article('https://english.onlinekhabar.com/ncp-dispute-dahal-nembang-discuss-possible-solution.html')"
   ]
  },
  {
   "cell_type": "code",
   "execution_count": 4,
   "metadata": {},
   "outputs": [],
   "source": [
    "article.download()\n",
    "article.parse()"
   ]
  },
  {
   "cell_type": "code",
   "execution_count": 5,
   "metadata": {},
   "outputs": [
    {
     "data": {
      "text/plain": [
       "[]"
      ]
     },
     "execution_count": 5,
     "metadata": {},
     "output_type": "execute_result"
    }
   ],
   "source": [
    "article.authors"
   ]
  },
  {
   "cell_type": "code",
   "execution_count": 6,
   "metadata": {},
   "outputs": [],
   "source": [
    "article.publish_date"
   ]
  },
  {
   "cell_type": "code",
   "execution_count": 7,
   "metadata": {},
   "outputs": [
    {
     "data": {
      "text/plain": [
       "'Kathmandu, August 6\\n\\nThe ruling Nepal Communist Party’s chairman Pushpa Kamal Dahal met Subas Chandra Nembang, a close confidant of another chairman, Prime Minister KP Sharma Oli, in his bid to end the stalemate in the party.\\n\\nAfter being called by Dahal, Nembang had gone to Dahal’s residence in Baluwatar this morning. Details of the discussion have not been divulged, but Nembang told journalists after the meeting that he was hopeful that the two chairpersons would find a solution to the current problem in consensus soon. However, according to some other sources, Dahal told Nembang that the party was on the verge of a split and Oli should be more flexible to avoid it.\\n\\nWhen the party’s standing committee meeting began on June 24, Dahal had demanded Oli’s resignation from the positions of party chair and prime minister, accusing him of failure. Oli, however, has been refusing to give up even one position, leading the party to the months-long stalemate. Following the dispute, the standing committee meeting has been repeatedly postponed without discussing any item of the set agenda.\\n\\nNow Dahal wants to resume the halted meeting but Oli wants to postpone indefinitely and find a solution in the nine-member secretariat. Oli has further warned Dahal that he would not attend the standing committee meeting called by Dahal and added such a meeting would not be legitimate, inform sources privy recent meetings between the two.\\n\\nPublished on August 6th, Thursday, 2020 2:27 PM\\n\\nDownload Onlinekhabar App. Android click here & IOS click here . Keep in touch with us on Facebook, Twitter & YouTube.'"
      ]
     },
     "execution_count": 7,
     "metadata": {},
     "output_type": "execute_result"
    }
   ],
   "source": [
    "article.text"
   ]
  },
  {
   "cell_type": "code",
   "execution_count": 8,
   "metadata": {},
   "outputs": [
    {
     "data": {
      "text/plain": [
       "[]"
      ]
     },
     "execution_count": 8,
     "metadata": {},
     "output_type": "execute_result"
    }
   ],
   "source": [
    "article.keywords"
   ]
  },
  {
   "cell_type": "code",
   "execution_count": 9,
   "metadata": {},
   "outputs": [
    {
     "data": {
      "text/plain": [
       "''"
      ]
     },
     "execution_count": 9,
     "metadata": {},
     "output_type": "execute_result"
    }
   ],
   "source": [
    "article.summary"
   ]
  },
  {
   "cell_type": "code",
   "execution_count": null,
   "metadata": {},
   "outputs": [],
   "source": []
  }
 ],
 "metadata": {
  "kernelspec": {
   "display_name": "Python 3",
   "language": "python",
   "name": "python3"
  },
  "language_info": {
   "codemirror_mode": {
    "name": "ipython",
    "version": 3
   },
   "file_extension": ".py",
   "mimetype": "text/x-python",
   "name": "python",
   "nbconvert_exporter": "python",
   "pygments_lexer": "ipython3",
   "version": "3.7.1"
  }
 },
 "nbformat": 4,
 "nbformat_minor": 4
}

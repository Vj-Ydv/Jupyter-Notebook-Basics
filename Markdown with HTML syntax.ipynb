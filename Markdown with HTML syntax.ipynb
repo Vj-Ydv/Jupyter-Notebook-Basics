{
 "cells": [
  {
   "cell_type": "markdown",
   "metadata": {},
   "source": [
    "# 1. Various headings in Jupyter Notebook\n",
    "\n",
    "# Heading 1\n",
    "## Heading 2\n",
    "### Heading 3\n",
    "#### Heading 4"
   ]
  },
  {
   "cell_type": "markdown",
   "metadata": {},
   "source": [
    "# 2. Embedding Image in Jupyter Notebook\n",
    "\n",
    "<img src=\"123.jpg\" width=\"300\">\n"
   ]
  },
  {
   "cell_type": "markdown",
   "metadata": {},
   "source": [
    "# 3. Adding table in Jupyter Notebook\n",
    "\n",
    "<table width=300>\n",
    "    <tr>\n",
    "        <th>Items</th>\n",
    "        <th>Price (Rs)</th>\n",
    "    </tr>\n",
    "    <tr>\n",
    "        <td>Orange</td>\n",
    "        <td>100</td>\n",
    "    </tr>\n",
    "    <tr>\n",
    "        <td>Mango</td>\n",
    "        <td>150</td>\n",
    "    <tr>\n",
    "    \n",
    "</table>"
   ]
  },
  {
   "cell_type": "markdown",
   "metadata": {},
   "source": [
    "# 4. List in jupyter Notebook\n",
    "\n",
    "<ol>\n",
    "    <li>Orange</li>\n",
    "    <li>Mango</li>\n",
    "</ol>"
   ]
  },
  {
   "cell_type": "markdown",
   "metadata": {},
   "source": [
    "# 5. Links in Jupyter Notebook\n",
    "\n",
    "<a href=\"https://vizayyadav.blogspot.com\">Click</a> here to visit my blog."
   ]
  },
  {
   "cell_type": "code",
   "execution_count": null,
   "metadata": {},
   "outputs": [],
   "source": []
  }
 ],
 "metadata": {
  "kernelspec": {
   "display_name": "Python 3",
   "language": "python",
   "name": "python3"
  },
  "language_info": {
   "codemirror_mode": {
    "name": "ipython",
    "version": 3
   },
   "file_extension": ".py",
   "mimetype": "text/x-python",
   "name": "python",
   "nbconvert_exporter": "python",
   "pygments_lexer": "ipython3",
   "version": "3.7.1"
  }
 },
 "nbformat": 4,
 "nbformat_minor": 4
}
